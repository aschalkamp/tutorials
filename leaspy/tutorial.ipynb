{
 "cells": [
  {
   "cell_type": "code",
   "execution_count": 1,
   "id": "proved-newcastle",
   "metadata": {},
   "outputs": [],
   "source": [
    "from leaspy import AlgorithmSettings, Data, Leaspy\n",
    "from leaspy.datasets import Loader\n",
    "\n",
    "import pandas as pd\n",
    "import numpy as np\n",
    "\n",
    "import seaborn as sns\n",
    "import pylab as plt"
   ]
  },
  {
   "cell_type": "code",
   "execution_count": 2,
   "id": "original-command",
   "metadata": {},
   "outputs": [],
   "source": [
    "alzheimer_df = Loader.load_dataset('alzheimer-multivariate')\n",
    "alzheimer_df = alzheimer_df[['MMSE', 'RAVLT', 'FAQ', 'FDG PET']]"
   ]
  },
  {
   "cell_type": "code",
   "execution_count": 3,
   "id": "built-genius",
   "metadata": {},
   "outputs": [],
   "source": [
    "data = Data.from_dataframe(alzheimer_df)"
   ]
  },
  {
   "cell_type": "code",
   "execution_count": 5,
   "id": "separated-judgment",
   "metadata": {},
   "outputs": [],
   "source": [
    "# initialise model object and algorithm\n",
    "leaspy_logistic = Leaspy('logistic', source_dimension=2)\n",
    "fit_settings = AlgorithmSettings('mcmc_saem', seed=0, n_iter=8000)"
   ]
  },
  {
   "cell_type": "code",
   "execution_count": 6,
   "id": "painful-numbers",
   "metadata": {},
   "outputs": [
    {
     "name": "stdout",
     "output_type": "stream",
     "text": [
      " ==> Setting seed to 0\n",
      "|##################################################|   8000/8000 iterations\n",
      "\n",
      "Fit with `mcmc_saem` took: 2m 30s\n",
      "The standard deviation of the noise at the end of the fit is: \n",
      "- MMSE: 6.51%\n",
      "- RAVLT: 7.62%\n",
      "- FAQ: 6.66%\n",
      "- FDG PET: 7.86%\n"
     ]
    }
   ],
   "source": [
    "# fit\n",
    "leaspy_logistic.fit(data, fit_settings)"
   ]
  },
  {
   "cell_type": "code",
   "execution_count": 7,
   "id": "social-iceland",
   "metadata": {},
   "outputs": [
    {
     "name": "stdout",
     "output_type": "stream",
     "text": [
      " ==> Setting seed to 0\n",
      "|##################################################|   200/200 subjects\n",
      "\n",
      "Personalize with `scipy_minimize` took: 6s\n",
      "The standard deviation of the noise at the end of the personalize is: \n",
      "- MMSE: 6.33%\n",
      "- RAVLT: 7.27%\n",
      "- FAQ: 6.30%\n",
      "- FDG PET: 7.49%\n"
     ]
    }
   ],
   "source": [
    "# extract individual trajectories\n",
    "personalize_settings = AlgorithmSettings('scipy_minimize', seed=0)\n",
    "individual_parameters = leaspy_logistic.personalize(data, personalize_settings)"
   ]
  }
 ],
 "metadata": {
  "kernelspec": {
   "display_name": "Python 3",
   "language": "python",
   "name": "python3"
  },
  "language_info": {
   "codemirror_mode": {
    "name": "ipython",
    "version": 3
   },
   "file_extension": ".py",
   "mimetype": "text/x-python",
   "name": "python",
   "nbconvert_exporter": "python",
   "pygments_lexer": "ipython3",
   "version": "3.8.5"
  }
 },
 "nbformat": 4,
 "nbformat_minor": 5
}

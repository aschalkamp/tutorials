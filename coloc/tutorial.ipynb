{
 "cells": [
  {
   "cell_type": "code",
   "execution_count": 7,
   "id": "featured-valuable",
   "metadata": {},
   "outputs": [
    {
     "ename": "ERROR",
     "evalue": "Error in library(coloc): there is no package called ‘coloc’\n",
     "output_type": "error",
     "traceback": [
      "Error in library(coloc): there is no package called ‘coloc’\nTraceback:\n",
      "1. library(coloc)"
     ]
    }
   ],
   "source": [
    "library(coloc)\n",
    "data(coloc_test_data)\n",
    "attach(coloc_test_data)"
   ]
  },
  {
   "cell_type": "code",
   "execution_count": 4,
   "id": "large-means",
   "metadata": {},
   "outputs": [
    {
     "name": "stderr",
     "output_type": "stream",
     "text": [
      "Loading required package: remotes\n",
      "\n",
      "Warning message in library(package, lib.loc = lib.loc, character.only = TRUE, logical.return = TRUE, :\n",
      "“there is no package called ‘remotes’”\n",
      "Warning message:\n",
      "“unable to access index for repository https://cran.r-project.org/src/contrib:\n",
      "  cannot open URL 'https://cran.r-project.org/src/contrib/PACKAGES'”\n",
      "Warning message:\n",
      "“package ‘remotes’ is not available (for R version 3.6.1)”\n"
     ]
    },
    {
     "ename": "ERROR",
     "evalue": "Error in library(remotes): there is no package called ‘remotes’\n",
     "output_type": "error",
     "traceback": [
      "Error in library(remotes): there is no package called ‘remotes’\nTraceback:\n",
      "1. library(remotes)"
     ]
    }
   ],
   "source": []
  }
 ],
 "metadata": {
  "kernelspec": {
   "display_name": "R",
   "language": "R",
   "name": "ir"
  },
  "language_info": {
   "codemirror_mode": "r",
   "file_extension": ".r",
   "mimetype": "text/x-r-source",
   "name": "R",
   "pygments_lexer": "r",
   "version": "3.6.1"
  }
 },
 "nbformat": 4,
 "nbformat_minor": 5
}

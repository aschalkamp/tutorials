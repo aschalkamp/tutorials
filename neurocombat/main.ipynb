{
 "cells": [
  {
   "cell_type": "code",
   "execution_count": 2,
   "id": "herbal-episode",
   "metadata": {},
   "outputs": [],
   "source": [
    "import os\n",
    "from neuroCombat import neuroCombat\n",
    "\n",
    "import pandas as pd\n",
    "import numpy as np"
   ]
  },
  {
   "cell_type": "code",
   "execution_count": 48,
   "id": "affiliated-cisco",
   "metadata": {},
   "outputs": [
    {
     "name": "stdout",
     "output_type": "stream",
     "text": [
      "[neuroCombat] Creating design matrix\n",
      "[neuroCombat] Standardizing data across features\n",
      "[neuroCombat] Fitting L/S model and finding priors\n",
      "[neuroCombat] Finding parametric adjustments\n",
      "[neuroCombat] Final adjustment of data\n"
     ]
    }
   ],
   "source": [
    "# Getting example data\n",
    "# 200 rows (features) and 10 columns (scans)\n",
    "data = np.genfromtxt('data/test_data.csv', delimiter=\",\", skip_header=1)\n",
    "\n",
    "# Specifying the batch (scanner variable) as well as a biological covariate to preserve:\n",
    "covars = {'batch':[1,1,1,1,1,2,2,2,2,2],\n",
    "          'gender':[1,2,1,2,1,2,1,2,1,2]} \n",
    "covars = pd.DataFrame(covars)  \n",
    "\n",
    "# To specify names of the variables that are categorical:\n",
    "categorical_cols = ['gender']\n",
    "\n",
    "# To specify the name of the variable that encodes for the scanner/batch covariate:\n",
    "batch_col = 'batch'\n",
    "\n",
    "#Harmonization step:\n",
    "data_combat = neuroCombat(dat=data,\n",
    "    covars=covars,\n",
    "    batch_col=batch_col,\n",
    "    categorical_cols=categorical_cols)"
   ]
  },
  {
   "cell_type": "code",
   "execution_count": 49,
   "id": "representative-telescope",
   "metadata": {},
   "outputs": [
    {
     "data": {
      "text/plain": [
       "(array([ 2.88424424,  0.1137953 ,  3.00954512, -0.07976603,  3.12905507,\n",
       "         7.41464851, 12.02337484,  7.62084639, 12.09482963,  7.46352801]),\n",
       " array([7.00817783, 4.31976718, 7.15105274, 4.11270577, 7.27445721,\n",
       "        3.31999554, 7.76773892, 3.48502613, 7.82257167, 3.36016635]))"
      ]
     },
     "execution_count": 49,
     "metadata": {},
     "output_type": "execute_result"
    }
   ],
   "source": [
    "data.mean(axis=0),data_combat.mean(axis=0)"
   ]
  },
  {
   "cell_type": "code",
   "execution_count": 51,
   "id": "mechanical-mason",
   "metadata": {},
   "outputs": [
    {
     "data": {
      "text/plain": [
       "((200, 10), (10, 2))"
      ]
     },
     "execution_count": 51,
     "metadata": {},
     "output_type": "execute_result"
    }
   ],
   "source": [
    "data.shape,covars.shape"
   ]
  },
  {
   "cell_type": "code",
   "execution_count": 53,
   "id": "proprietary-album",
   "metadata": {},
   "outputs": [
    {
     "data": {
      "text/plain": [
       "((57, 22283), (57, 6))"
      ]
     },
     "execution_count": 53,
     "metadata": {},
     "output_type": "execute_result"
    }
   ],
   "source": [
    "data.shape,covars.shape"
   ]
  },
  {
   "cell_type": "code",
   "execution_count": 52,
   "id": "nominated-insight",
   "metadata": {},
   "outputs": [
    {
     "name": "stdout",
     "output_type": "stream",
     "text": [
      "[neuroCombat] Creating design matrix\n",
      "[neuroCombat] Standardizing data across features\n",
      "[neuroCombat] Fitting L/S model and finding priors\n",
      "[neuroCombat] Finding parametric adjustments\n",
      "[neuroCombat] Final adjustment of data\n"
     ]
    }
   ],
   "source": [
    "data = np.load('data/bladder-expr.npy')\n",
    "covars = pd.read_csv('data/bladder-pheno.txt', delimiter='\\t')\n",
    "\n",
    "discrete_cols = ['cancer']\n",
    "continuous_cols = ['age']\n",
    "batch_col = 'batch'\n",
    "\n",
    "data_combat = neuroCombat(dat=data.T,\n",
    "                          covars=covars,\n",
    "                          batch_col=batch_col,\n",
    "                          continuous_cols=continuous_cols)"
   ]
  },
  {
   "cell_type": "code",
   "execution_count": 47,
   "id": "naval-carrier",
   "metadata": {},
   "outputs": [
    {
     "data": {
      "text/plain": [
       "(22283, 57)"
      ]
     },
     "execution_count": 47,
     "metadata": {},
     "output_type": "execute_result"
    }
   ],
   "source": [
    "data_combat.shape"
   ]
  }
 ],
 "metadata": {
  "kernelspec": {
   "display_name": "Python 3",
   "language": "python",
   "name": "python3"
  },
  "language_info": {
   "codemirror_mode": {
    "name": "ipython",
    "version": 3
   },
   "file_extension": ".py",
   "mimetype": "text/x-python",
   "name": "python",
   "nbconvert_exporter": "python",
   "pygments_lexer": "ipython3",
   "version": "3.8.5"
  }
 },
 "nbformat": 4,
 "nbformat_minor": 5
}
